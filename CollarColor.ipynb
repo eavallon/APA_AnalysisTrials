{
 "cells": [
  {
   "cell_type": "code",
   "execution_count": 2,
   "outputs": [],
   "source": [
    "import mysql.connector as connection\n",
    "import pandas as pd\n",
    "import sys\n",
    "sys.path.append('/Users/eavallon/Desktop/APA/shelterluv_cache/')\n",
    "import sl_config\n",
    "import matplotlib.pyplot as plt\n",
    "import collections\n",
    "import numpy as np"
   ],
   "metadata": {
    "collapsed": false,
    "pycharm": {
     "name": "#%%\n"
    }
   }
  },
  {
   "cell_type": "code",
   "execution_count": 3,
   "outputs": [],
   "source": [
    "dbdw =connection.connect(host=sl_config.dbhost,user=sl_config.dbuser,passwd=sl_config.dbpassword,database='shelterluv')"
   ],
   "metadata": {
    "collapsed": false,
    "pycharm": {
     "name": "#%%\n"
    }
   }
  },
  {
   "cell_type": "code",
   "execution_count": 4,
   "outputs": [],
   "source": [
    "date_query = \"\"\"select DateDate as date\n",
    "                from Dates\n",
    "                where DateDate between '2019-01-00 00:00:00.0' and '2023-11-02 00:00:00.0'\n",
    "                and (DateDate like '%-01 %'\n",
    "                or DateDate like '%-15 %')\"\"\""
   ],
   "metadata": {
    "collapsed": false,
    "pycharm": {
     "name": "#%%\n"
    }
   }
  },
  {
   "cell_type": "code",
   "execution_count": 5,
   "outputs": [],
   "source": [
    "dates = pd.read_sql(date_query,dbdw)"
   ],
   "metadata": {
    "collapsed": false,
    "pycharm": {
     "name": "#%%\n"
    }
   }
  },
  {
   "cell_type": "code",
   "execution_count": 6,
   "outputs": [],
   "source": [
    "q0 = f\"\"\"\n",
    "    with onsite_status as (\n",
    "        select stat.`AnimalInternal-ID`\n",
    "        from AnimalsStatusHistory stat\n",
    "        left join StatusTypes st on stat.AnimalStatus = st.AnimalStatus\n",
    "        where st.Location = 'Shelter'\n",
    "          and '{dates['date'][0]}' between DateStart and if(DateEnd is null, now(),DateEnd)),\n",
    "\n",
    "        loc as (select loc.`AnimalInternal-ID`\n",
    "        from AnimalsLocationHistory loc\n",
    "        where loc.AnimalCurrentLocationTier1 = 'Dog'\n",
    "          and loc.AnimalCurrentLocationTier2 = 'TLAC'\n",
    "          and '{dates['date'][0]}' between DateStart and if(DateEnd is null, now(),DateEnd)),\n",
    "\n",
    "        pink as (select acv.`AnimalInternal-ID`\n",
    "        from AnimalsCategoryVolunteer acv\n",
    "        where acv.CategoryVolunteer like 'Pink%'\n",
    "        and '{dates['date'][0]}' between DateStart and if(DateEnd is null, now(),DateEnd)),\n",
    "\n",
    "        orange as (select acv.`AnimalInternal-ID`\n",
    "        from AnimalsCategoryVolunteer acv\n",
    "        where acv.CategoryVolunteer like 'Orange%'\n",
    "        and '{dates['date'][0]}' between DateStart and if(DateEnd is null, now(),DateEnd)),\n",
    "\n",
    "        blue as (select acv.`AnimalInternal-ID`\n",
    "        from AnimalsCategoryVolunteer acv\n",
    "        where acv.CategoryVolunteer like 'Blue%'\n",
    "        and '{dates['date'][0]}' between DateStart and if(DateEnd is null, now(),DateEnd)),\n",
    "\n",
    "        silver as (select acv.`AnimalInternal-ID`\n",
    "        from AnimalsCategoryVolunteer acv\n",
    "        where acv.CategoryVolunteer like 'Silver%'\n",
    "        and '{dates['date'][0]}' between DateStart and if(DateEnd is null, now(),DateEnd)),\n",
    "\n",
    "        yellow as (select acv.`AnimalInternal-ID`\n",
    "        from AnimalsCategoryVolunteer acv\n",
    "        where acv.CategoryVolunteer like 'Yellow%'\n",
    "        and '{dates['date'][0]}' between DateStart and if(DateEnd is null, now(),DateEnd)),\n",
    "\n",
    "        red as (select acv.`AnimalInternal-ID`\n",
    "        from AnimalsCategoryVolunteer acv\n",
    "        where acv.CategoryVolunteer like 'Red%'\n",
    "        and '{dates['date'][0]}' between DateStart and if(DateEnd is null, now(),DateEnd)),\n",
    "\n",
    "        purple as (select acv.`AnimalInternal-ID`\n",
    "        from AnimalsCategoryVolunteer acv\n",
    "        where (acv.CategoryVolunteer like 'Purple%'\n",
    "                or acv.CategoryVolunteer like 'AAC%')\n",
    "                and '{dates['date'][0]}' between DateStart and if(DateEnd is null, now(),DateEnd)),\n",
    "\n",
    "        nope as (select acv.`AnimalInternal-ID`\n",
    "        from AnimalsCategoryVolunteer acv\n",
    "        where (acv.CategoryVolunteer like 'None%'\n",
    "                or acv.CategoryVolunteer is null)\n",
    "        and '{dates['date'][0]}' between DateStart and if(DateEnd is null, now(),DateEnd))\n",
    "\n",
    "        select '{dates['date'][0]}' as Date,\n",
    "               count(pink.`AnimalInternal-ID`) as Pink,\n",
    "               count(orange.`AnimalInternal-ID`) as Orange,\n",
    "               count(blue.`AnimalInternal-ID`) as Blue,\n",
    "               count(silver.`AnimalInternal-ID`) as Silver,\n",
    "               count(yellow.`AnimalInternal-ID`) as Yellow,\n",
    "               count(red.`AnimalInternal-ID`) as Red,\n",
    "               count(purple.`AnimalInternal-ID`) as Purple,\n",
    "               count(nope.`AnimalInternal-ID`) as None\n",
    "        from Animals a\n",
    "        left join onsite_status on a.`AnimalInternal-ID` = onsite_status.`AnimalInternal-ID`\n",
    "        left join loc on a.`AnimalInternal-ID` = loc.`AnimalInternal-ID`\n",
    "        left join pink on a.`AnimalInternal-ID` = pink.`AnimalInternal-ID`\n",
    "        left join orange on a.`AnimalInternal-ID` = orange.`AnimalInternal-ID`\n",
    "        left join blue on a.`AnimalInternal-ID` = blue.`AnimalInternal-ID`\n",
    "        left join silver on a.`AnimalInternal-ID` = silver.`AnimalInternal-ID`\n",
    "        left join yellow on a.`AnimalInternal-ID` = yellow.`AnimalInternal-ID`\n",
    "        left join red on a.`AnimalInternal-ID` = red.`AnimalInternal-ID`\n",
    "        left join purple on a.`AnimalInternal-ID` = purple.`AnimalInternal-ID`\n",
    "        left join nope on a.`AnimalInternal-ID` = nope.`AnimalInternal-ID`\n",
    "        where onsite_status.`AnimalInternal-ID` is not null\n",
    "        and loc.`AnimalInternal-ID` is not null\n",
    "        and a.DeletedFromSL is null;\n",
    "        \"\"\""
   ],
   "metadata": {
    "collapsed": false,
    "pycharm": {
     "name": "#%%\n"
    }
   }
  },
  {
   "cell_type": "code",
   "execution_count": 7,
   "outputs": [],
   "source": [
    "ccs = pd.read_sql(q0,dbdw)"
   ],
   "metadata": {
    "collapsed": false,
    "pycharm": {
     "name": "#%%\n"
    }
   }
  },
  {
   "cell_type": "code",
   "execution_count": 8,
   "outputs": [
    {
     "data": {
      "text/plain": "                  Date  Pink  Orange  Blue  Silver  Yellow  Red  Purple  None\n0  2019-01-01 23:59:59     7      15    21      84      24   24       0     0",
      "text/html": "<div>\n<style scoped>\n    .dataframe tbody tr th:only-of-type {\n        vertical-align: middle;\n    }\n\n    .dataframe tbody tr th {\n        vertical-align: top;\n    }\n\n    .dataframe thead th {\n        text-align: right;\n    }\n</style>\n<table border=\"1\" class=\"dataframe\">\n  <thead>\n    <tr style=\"text-align: right;\">\n      <th></th>\n      <th>Date</th>\n      <th>Pink</th>\n      <th>Orange</th>\n      <th>Blue</th>\n      <th>Silver</th>\n      <th>Yellow</th>\n      <th>Red</th>\n      <th>Purple</th>\n      <th>None</th>\n    </tr>\n  </thead>\n  <tbody>\n    <tr>\n      <th>0</th>\n      <td>2019-01-01 23:59:59</td>\n      <td>7</td>\n      <td>15</td>\n      <td>21</td>\n      <td>84</td>\n      <td>24</td>\n      <td>24</td>\n      <td>0</td>\n      <td>0</td>\n    </tr>\n  </tbody>\n</table>\n</div>"
     },
     "execution_count": 8,
     "metadata": {},
     "output_type": "execute_result"
    }
   ],
   "source": [
    "ccs"
   ],
   "metadata": {
    "collapsed": false,
    "pycharm": {
     "name": "#%%\n"
    }
   }
  },
  {
   "cell_type": "code",
   "execution_count": 9,
   "outputs": [
    {
     "name": "stdout",
     "output_type": "stream",
     "text": [
      "2019-01-15 23:59:59\n",
      "2019-02-01 23:59:59\n",
      "2019-02-15 23:59:59\n",
      "2019-03-01 23:59:59\n",
      "2019-03-15 23:59:59\n",
      "2019-04-01 23:59:59\n",
      "2019-04-15 23:59:59\n",
      "2019-05-01 23:59:59\n",
      "2019-05-15 23:59:59\n",
      "2019-06-01 23:59:59\n",
      "2019-06-15 23:59:59\n",
      "2019-07-01 23:59:59\n",
      "2019-07-15 23:59:59\n",
      "2019-08-01 23:59:59\n",
      "2019-08-15 23:59:59\n",
      "2019-09-01 23:59:59\n",
      "2019-09-15 23:59:59\n",
      "2019-10-01 23:59:59\n",
      "2019-10-15 23:59:59\n",
      "2019-11-01 23:59:59\n",
      "2019-11-15 23:59:59\n",
      "2019-12-01 23:59:59\n",
      "2019-12-15 23:59:59\n",
      "2020-01-01 23:59:59\n",
      "2020-01-15 23:59:59\n",
      "2020-02-01 23:59:59\n",
      "2020-02-15 23:59:59\n",
      "2020-03-01 23:59:59\n",
      "2020-03-15 23:59:59\n",
      "2020-04-01 23:59:59\n",
      "2020-04-15 23:59:59\n",
      "2020-05-01 23:59:59\n",
      "2020-05-15 23:59:59\n",
      "2020-06-01 23:59:59\n",
      "2020-06-15 23:59:59\n",
      "2020-07-01 23:59:59\n",
      "2020-07-15 23:59:59\n",
      "2020-08-01 23:59:59\n",
      "2020-08-15 23:59:59\n",
      "2020-09-01 23:59:59\n",
      "2020-09-15 23:59:59\n",
      "2020-10-01 23:59:59\n",
      "2020-10-15 23:59:59\n",
      "2020-11-01 23:59:59\n",
      "2020-11-15 23:59:59\n",
      "2020-12-01 23:59:59\n",
      "2020-12-15 23:59:59\n",
      "2021-01-01 23:59:59\n",
      "2021-01-15 23:59:59\n",
      "2021-02-01 23:59:59\n",
      "2021-02-15 23:59:59\n",
      "2021-03-01 23:59:59\n",
      "2021-03-15 23:59:59\n",
      "2021-04-01 23:59:59\n",
      "2021-04-15 23:59:59\n",
      "2021-05-01 23:59:59\n",
      "2021-05-15 23:59:59\n",
      "2021-06-01 23:59:59\n",
      "2021-06-15 23:59:59\n",
      "2021-07-01 23:59:59\n",
      "2021-07-15 23:59:59\n",
      "2021-08-01 23:59:59\n",
      "2021-08-15 23:59:59\n",
      "2021-09-01 23:59:59\n",
      "2021-09-15 23:59:59\n",
      "2021-10-01 23:59:59\n",
      "2021-10-15 23:59:59\n",
      "2021-11-01 23:59:59\n",
      "2021-11-15 23:59:59\n",
      "2021-12-01 23:59:59\n",
      "2021-12-15 23:59:59\n",
      "2022-01-01 23:59:59\n",
      "2022-01-15 23:59:59\n",
      "2022-02-01 23:59:59\n",
      "2022-02-15 23:59:59\n",
      "2022-03-01 23:59:59\n",
      "2022-03-15 23:59:59\n",
      "2022-04-01 23:59:59\n",
      "2022-04-15 23:59:59\n",
      "2022-05-01 23:59:59\n",
      "2022-05-15 23:59:59\n",
      "2022-06-01 23:59:59\n",
      "2022-06-15 23:59:59\n",
      "2022-07-01 23:59:59\n",
      "2022-07-15 23:59:59\n",
      "2022-08-01 23:59:59\n",
      "2022-08-15 23:59:59\n",
      "2022-09-01 23:59:59\n",
      "2022-09-15 23:59:59\n",
      "2022-10-01 23:59:59\n",
      "2022-10-15 23:59:59\n",
      "2022-11-01 23:59:59\n",
      "2022-11-15 23:59:59\n",
      "2022-12-01 23:59:59\n",
      "2022-12-15 23:59:59\n",
      "2023-01-01 23:59:59\n",
      "2023-01-15 23:59:59\n",
      "2023-02-01 23:59:59\n",
      "2023-02-15 23:59:59\n",
      "2023-03-01 23:59:59\n",
      "2023-03-15 23:59:59\n",
      "2023-04-01 23:59:59\n",
      "2023-04-15 23:59:59\n",
      "2023-05-01 23:59:59\n",
      "2023-05-15 23:59:59\n",
      "2023-06-01 23:59:59\n",
      "2023-06-15 23:59:59\n",
      "2023-07-01 23:59:59\n",
      "2023-07-15 23:59:59\n",
      "2023-08-01 23:59:59\n",
      "2023-08-15 23:59:59\n",
      "2023-09-01 23:59:59\n",
      "2023-09-15 23:59:59\n",
      "2023-10-01 23:59:59\n",
      "2023-10-15 23:59:59\n",
      "2023-11-01 23:59:59\n"
     ]
    }
   ],
   "source": [
    "# Loop through the dates\n",
    "for date in dates['date'][1:]:\n",
    "    # Build and execute the query with the current date\n",
    "    qi = f\"\"\"\n",
    "        with onsite_status as (\n",
    "        select stat.`AnimalInternal-ID`\n",
    "        from AnimalsStatusHistory stat\n",
    "        left join StatusTypes st on stat.AnimalStatus = st.AnimalStatus\n",
    "        where st.Location = 'Shelter'\n",
    "          and '{date}' between DateStart and if(DateEnd is null, now(),DateEnd)),\n",
    "\n",
    "        loc as (select loc.`AnimalInternal-ID`\n",
    "        from AnimalsLocationHistory loc\n",
    "        where loc.AnimalCurrentLocationTier1 = 'Dog'\n",
    "          and loc.AnimalCurrentLocationTier2 = 'TLAC'\n",
    "          and '{date}' between DateStart and if(DateEnd is null, now(),DateEnd)),\n",
    "\n",
    "        pink as (select acv.`AnimalInternal-ID`\n",
    "        from AnimalsCategoryVolunteer acv\n",
    "        where acv.CategoryVolunteer like 'Pink%'\n",
    "        and '{date}' between DateStart and if(DateEnd is null, now(),DateEnd)),\n",
    "\n",
    "        orange as (select acv.`AnimalInternal-ID`\n",
    "        from AnimalsCategoryVolunteer acv\n",
    "        where acv.CategoryVolunteer like 'Orange%'\n",
    "        and '{date}' between DateStart and if(DateEnd is null, now(),DateEnd)),\n",
    "\n",
    "        blue as (select acv.`AnimalInternal-ID`\n",
    "        from AnimalsCategoryVolunteer acv\n",
    "        where acv.CategoryVolunteer like 'Blue%'\n",
    "        and '{date}' between DateStart and if(DateEnd is null, now(),DateEnd)),\n",
    "\n",
    "        silver as (select acv.`AnimalInternal-ID`\n",
    "        from AnimalsCategoryVolunteer acv\n",
    "        where acv.CategoryVolunteer like 'Silver%'\n",
    "        and '{date}' between DateStart and if(DateEnd is null, now(),DateEnd)),\n",
    "\n",
    "        yellow as (select acv.`AnimalInternal-ID`\n",
    "        from AnimalsCategoryVolunteer acv\n",
    "        where acv.CategoryVolunteer like 'Yellow%'\n",
    "        and '{date}' between DateStart and if(DateEnd is null, now(),DateEnd)),\n",
    "\n",
    "        red as (select acv.`AnimalInternal-ID`\n",
    "        from AnimalsCategoryVolunteer acv\n",
    "        where acv.CategoryVolunteer like 'Red%'\n",
    "        and '{date}' between DateStart and if(DateEnd is null, now(),DateEnd)),\n",
    "\n",
    "        purple as (select acv.`AnimalInternal-ID`\n",
    "        from AnimalsCategoryVolunteer acv\n",
    "        where (acv.CategoryVolunteer like 'Purple%'\n",
    "                or acv.CategoryVolunteer like 'AAC%')\n",
    "        and '{date}' between DateStart and if(DateEnd is null, now(),DateEnd)),\n",
    "\n",
    "        nope as (select acv.`AnimalInternal-ID`\n",
    "        from AnimalsCategoryVolunteer acv\n",
    "        where (acv.CategoryVolunteer like 'None%'\n",
    "                or acv.CategoryVolunteer is null)\n",
    "        and '{date}' between DateStart and if(DateEnd is null, now(),DateEnd))\n",
    "\n",
    "        select '{date}' as Date,\n",
    "               count(pink.`AnimalInternal-ID`) as Pink,\n",
    "               count(orange.`AnimalInternal-ID`) as Orange,\n",
    "               count(blue.`AnimalInternal-ID`) as Blue,\n",
    "               count(silver.`AnimalInternal-ID`) as Silver,\n",
    "               count(yellow.`AnimalInternal-ID`) as Yellow,\n",
    "               count(red.`AnimalInternal-ID`) as Red,\n",
    "               count(purple.`AnimalInternal-ID`) as Purple,\n",
    "               count(nope.`AnimalInternal-ID`) as None\n",
    "        from Animals a\n",
    "        left join onsite_status on a.`AnimalInternal-ID` = onsite_status.`AnimalInternal-ID`\n",
    "        left join loc on a.`AnimalInternal-ID` = loc.`AnimalInternal-ID`\n",
    "        left join pink on a.`AnimalInternal-ID` = pink.`AnimalInternal-ID`\n",
    "        left join orange on a.`AnimalInternal-ID` = orange.`AnimalInternal-ID`\n",
    "        left join blue on a.`AnimalInternal-ID` = blue.`AnimalInternal-ID`\n",
    "        left join silver on a.`AnimalInternal-ID` = silver.`AnimalInternal-ID`\n",
    "        left join yellow on a.`AnimalInternal-ID` = yellow.`AnimalInternal-ID`\n",
    "        left join red on a.`AnimalInternal-ID` = red.`AnimalInternal-ID`\n",
    "        left join purple on a.`AnimalInternal-ID` = purple.`AnimalInternal-ID`\n",
    "        left join nope on a.`AnimalInternal-ID` = nope.`AnimalInternal-ID`\n",
    "        where onsite_status.`AnimalInternal-ID` is not null\n",
    "        and loc.`AnimalInternal-ID` is not null\n",
    "        and a.DeletedFromSL is null;\n",
    "        \"\"\"\n",
    "\n",
    "    ccs_i = pd.read_sql(qi,dbdw)\n",
    "    ccs = ccs.append(ccs_i,ignore_index=True)\n",
    "    print(date)"
   ],
   "metadata": {
    "collapsed": false,
    "pycharm": {
     "name": "#%%\n"
    }
   }
  },
  {
   "cell_type": "code",
   "execution_count": 10,
   "outputs": [],
   "source": [
    "ccs.to_csv('/Users/eavallon/Desktop/APA/APA_AnalysisTrials/CollarColorTrend.csv',index=False)"
   ],
   "metadata": {
    "collapsed": false,
    "pycharm": {
     "name": "#%%\n"
    }
   }
  },
  {
   "cell_type": "code",
   "execution_count": 11,
   "outputs": [
    {
     "data": {
      "text/plain": "                    Date  Pink  Orange  Blue  Silver  Yellow  Red  Purple  \\\n0    2019-01-01 23:59:59     7      15    21      84      24   24       0   \n1    2019-01-15 23:59:59     8      15    24      80      22   21       0   \n2    2019-02-01 23:59:59     6      15    24      68      24   18       0   \n3    2019-02-15 23:59:59    10      19    35      72      23   17       0   \n4    2019-03-01 23:59:59    15      23    39      68      21   16       0   \n..                   ...   ...     ...   ...     ...     ...  ...     ...   \n112  2023-09-01 23:59:59     2       4    26      64      43   15       5   \n113  2023-09-15 23:59:59     4       7    24      56      52   17       5   \n114  2023-10-01 23:59:59     6       7    23      60      44   19       5   \n115  2023-10-15 23:59:59     5       9    14      56      56   16       8   \n116  2023-11-01 23:59:59     6      10    22      62      46   16       9   \n\n     None  \n0       0  \n1       0  \n2       0  \n3       0  \n4       0  \n..    ...  \n112    13  \n113    13  \n114    14  \n115    14  \n116    14  \n\n[117 rows x 9 columns]",
      "text/html": "<div>\n<style scoped>\n    .dataframe tbody tr th:only-of-type {\n        vertical-align: middle;\n    }\n\n    .dataframe tbody tr th {\n        vertical-align: top;\n    }\n\n    .dataframe thead th {\n        text-align: right;\n    }\n</style>\n<table border=\"1\" class=\"dataframe\">\n  <thead>\n    <tr style=\"text-align: right;\">\n      <th></th>\n      <th>Date</th>\n      <th>Pink</th>\n      <th>Orange</th>\n      <th>Blue</th>\n      <th>Silver</th>\n      <th>Yellow</th>\n      <th>Red</th>\n      <th>Purple</th>\n      <th>None</th>\n    </tr>\n  </thead>\n  <tbody>\n    <tr>\n      <th>0</th>\n      <td>2019-01-01 23:59:59</td>\n      <td>7</td>\n      <td>15</td>\n      <td>21</td>\n      <td>84</td>\n      <td>24</td>\n      <td>24</td>\n      <td>0</td>\n      <td>0</td>\n    </tr>\n    <tr>\n      <th>1</th>\n      <td>2019-01-15 23:59:59</td>\n      <td>8</td>\n      <td>15</td>\n      <td>24</td>\n      <td>80</td>\n      <td>22</td>\n      <td>21</td>\n      <td>0</td>\n      <td>0</td>\n    </tr>\n    <tr>\n      <th>2</th>\n      <td>2019-02-01 23:59:59</td>\n      <td>6</td>\n      <td>15</td>\n      <td>24</td>\n      <td>68</td>\n      <td>24</td>\n      <td>18</td>\n      <td>0</td>\n      <td>0</td>\n    </tr>\n    <tr>\n      <th>3</th>\n      <td>2019-02-15 23:59:59</td>\n      <td>10</td>\n      <td>19</td>\n      <td>35</td>\n      <td>72</td>\n      <td>23</td>\n      <td>17</td>\n      <td>0</td>\n      <td>0</td>\n    </tr>\n    <tr>\n      <th>4</th>\n      <td>2019-03-01 23:59:59</td>\n      <td>15</td>\n      <td>23</td>\n      <td>39</td>\n      <td>68</td>\n      <td>21</td>\n      <td>16</td>\n      <td>0</td>\n      <td>0</td>\n    </tr>\n    <tr>\n      <th>...</th>\n      <td>...</td>\n      <td>...</td>\n      <td>...</td>\n      <td>...</td>\n      <td>...</td>\n      <td>...</td>\n      <td>...</td>\n      <td>...</td>\n      <td>...</td>\n    </tr>\n    <tr>\n      <th>112</th>\n      <td>2023-09-01 23:59:59</td>\n      <td>2</td>\n      <td>4</td>\n      <td>26</td>\n      <td>64</td>\n      <td>43</td>\n      <td>15</td>\n      <td>5</td>\n      <td>13</td>\n    </tr>\n    <tr>\n      <th>113</th>\n      <td>2023-09-15 23:59:59</td>\n      <td>4</td>\n      <td>7</td>\n      <td>24</td>\n      <td>56</td>\n      <td>52</td>\n      <td>17</td>\n      <td>5</td>\n      <td>13</td>\n    </tr>\n    <tr>\n      <th>114</th>\n      <td>2023-10-01 23:59:59</td>\n      <td>6</td>\n      <td>7</td>\n      <td>23</td>\n      <td>60</td>\n      <td>44</td>\n      <td>19</td>\n      <td>5</td>\n      <td>14</td>\n    </tr>\n    <tr>\n      <th>115</th>\n      <td>2023-10-15 23:59:59</td>\n      <td>5</td>\n      <td>9</td>\n      <td>14</td>\n      <td>56</td>\n      <td>56</td>\n      <td>16</td>\n      <td>8</td>\n      <td>14</td>\n    </tr>\n    <tr>\n      <th>116</th>\n      <td>2023-11-01 23:59:59</td>\n      <td>6</td>\n      <td>10</td>\n      <td>22</td>\n      <td>62</td>\n      <td>46</td>\n      <td>16</td>\n      <td>9</td>\n      <td>14</td>\n    </tr>\n  </tbody>\n</table>\n<p>117 rows × 9 columns</p>\n</div>"
     },
     "execution_count": 11,
     "metadata": {},
     "output_type": "execute_result"
    }
   ],
   "source": [
    "ccs"
   ],
   "metadata": {
    "collapsed": false,
    "pycharm": {
     "name": "#%%\n"
    }
   }
  },
  {
   "cell_type": "code",
   "execution_count": 27,
   "outputs": [],
   "source": [
    "cct = pd.read_csv('/Users/eavallon/Desktop/APA/APA_AnalysisTrials/CollarColorTrend.csv')"
   ],
   "metadata": {
    "collapsed": false,
    "pycharm": {
     "name": "#%%\n"
    }
   }
  },
  {
   "cell_type": "code",
   "execution_count": 31,
   "outputs": [],
   "source": [
    "totalpop = cct.transpose().drop(['Date']).sum()"
   ],
   "metadata": {
    "collapsed": false,
    "pycharm": {
     "name": "#%%\n"
    }
   }
  },
  {
   "cell_type": "code",
   "execution_count": 29,
   "outputs": [],
   "source": [
    "totalpop.index = cct['Date']"
   ],
   "metadata": {
    "collapsed": false,
    "pycharm": {
     "name": "#%%\n"
    }
   }
  },
  {
   "cell_type": "code",
   "execution_count": 38,
   "outputs": [],
   "source": [
    "cct['TotalPop'] = totalpop.values"
   ],
   "metadata": {
    "collapsed": false,
    "pycharm": {
     "name": "#%%\n"
    }
   }
  },
  {
   "cell_type": "code",
   "execution_count": 40,
   "outputs": [
    {
     "data": {
      "text/plain": "Index(['Pink', 'Orange', 'Blue', 'Silver', 'Yellow', 'Red', 'Purple', 'None'], dtype='object')"
     },
     "execution_count": 40,
     "metadata": {},
     "output_type": "execute_result"
    }
   ],
   "source": [
    "cct.keys()[1:-1]"
   ],
   "metadata": {
    "collapsed": false,
    "pycharm": {
     "name": "#%%\n"
    }
   }
  },
  {
   "cell_type": "code",
   "execution_count": 44,
   "outputs": [
    {
     "data": {
      "text/plain": "0     0.040000\n1     0.038710\n2     0.082418\n3     0.053254\n4     0.054348\n5     0.049451\n6     0.025157\n7     0.032258\n8     0.072222\n9     0.063158\n10    0.035294\n11    0.060440\n12    0.070175\n13    0.074713\n14    0.084337\n15    0.061728\n16    0.219780\n17    0.101449\n18    0.050000\n19    0.086420\n20    0.144444\n21    0.098901\n22    0.112150\n23    0.076923\n24    0.029197\n25    0.041237\n26    0.096386\n27    0.047619\n28    0.083969\n29    0.053030\n30    0.083969\n31    0.063380\n32    0.091463\n33    0.051724\n34    0.039062\n35    0.050000\n36    0.055172\n37    0.025974\n38    0.100000\n39    0.043860\n40    0.083969\n41    0.040650\n42    0.079365\n43    0.016000\n44    0.047619\n45    0.032520\n46    0.000000\n47    0.043165\n48    0.023256\n49    0.010204\n50    0.080645\n51    0.068182\n52    0.021898\n53    0.045113\n54    0.065359\n55    0.033784\n56    0.012579\n57    0.036364\n58    0.034884\ndtype: float64"
     },
     "execution_count": 44,
     "metadata": {},
     "output_type": "execute_result"
    }
   ],
   "source": [
    "cct['Pink']/cct['TotalPop']"
   ],
   "metadata": {
    "collapsed": false,
    "pycharm": {
     "name": "#%%\n"
    }
   }
  },
  {
   "cell_type": "code",
   "execution_count": 41,
   "outputs": [],
   "source": [
    "plot_color = {'Pink':'xkcd:pink','Orange':'xkcd:orange','Blue':'xkcd:blue','Silver':'xkcd:silver',\n",
    "              'Yellow':'xkcd:gold','Red':'xkcd:red','Purple':'xkcd:purple','None':'xkcd:black'}"
   ],
   "metadata": {
    "collapsed": false,
    "pycharm": {
     "name": "#%%\n"
    }
   }
  },
  {
   "cell_type": "code",
   "execution_count": 58,
   "outputs": [],
   "source": [
    "yi = np.zeros(len(cct))"
   ],
   "metadata": {
    "collapsed": false,
    "pycharm": {
     "name": "#%%\n"
    }
   }
  },
  {
   "cell_type": "code",
   "execution_count": 59,
   "outputs": [
    {
     "data": {
      "text/plain": "array([0., 0., 0., 0., 0., 0., 0., 0., 0., 0., 0., 0., 0., 0., 0., 0., 0.,\n       0., 0., 0., 0., 0., 0., 0., 0., 0., 0., 0., 0., 0., 0., 0., 0., 0.,\n       0., 0., 0., 0., 0., 0., 0., 0., 0., 0., 0., 0., 0., 0., 0., 0., 0.,\n       0., 0., 0., 0., 0., 0., 0., 0.])"
     },
     "execution_count": 59,
     "metadata": {},
     "output_type": "execute_result"
    }
   ],
   "source": [
    "yi"
   ],
   "metadata": {
    "collapsed": false,
    "pycharm": {
     "name": "#%%\n"
    }
   }
  },
  {
   "cell_type": "code",
   "execution_count": 63,
   "outputs": [
    {
     "data": {
      "text/plain": "<Figure size 1152x720 with 1 Axes>",
      "image/png": "[encoded data removed]"
     },
     "metadata": {
      "needs_background": "light"
     },
     "output_type": "display_data"
    }
   ],
   "source": [
    "fig,ax = plt.subplots(figsize=(16,10))\n",
    "\n",
    "yi = np.zeros(len(cct))\n",
    "\n",
    "for color in cct.keys()[1:-1]:\n",
    "    ax.bar(cct['Date'], cct[color]/cct['TotalPop'], label=color, bottom=yi, color=plot_color[color])\n",
    "    yi += cct[color]/cct['TotalPop']\n",
    "\n",
    "# ax.set_title(\"Number of penguins with above average body mass\")\n",
    "# ax.legend(loc=\"upper right\")\n",
    "\n",
    "# plt.bar(ccs['Date'],ccs['Pink'],color='red',edgecolor='black')"
   ],
   "metadata": {
    "collapsed": false,
    "pycharm": {
     "name": "#%%\n"
    }
   }
  },
  {
   "cell_type": "code",
   "execution_count": 69,
   "outputs": [
    {
     "data": {
      "text/plain": "<Figure size 1152x720 with 1 Axes>",
      "image/png": "[encoded data removed]"
     },
     "metadata": {
      "needs_background": "light"
     },
     "output_type": "display_data"
    }
   ],
   "source": [
    "fig,ax = plt.subplots(figsize=(16,10))\n",
    "\n",
    "yi0 = np.zeros(len(cct))\n",
    "\n",
    "for color in cct.keys()[1:-1]:\n",
    "    ax.bar(cct['Date'], cct[color], label=color, bottom=yi0, color=plot_color[color])\n",
    "    yi0 += cct[color]\n",
    "\n",
    "# ax.set_title(\"Number of penguins with above average body mass\")\n",
    "# ax.legend(loc=\"upper right\")\n",
    "\n",
    "# plt.bar(ccs['Date'],ccs['Pink'],color='red',edgecolor='black')"
   ],
   "metadata": {
    "collapsed": false,
    "pycharm": {
     "name": "#%%\n"
    }
   }
  },
  {
   "cell_type": "code",
   "execution_count": 54,
   "outputs": [],
   "source": [],
   "metadata": {
    "collapsed": false,
    "pycharm": {
     "name": "#%%\n"
    }
   }
  },
  {
   "cell_type": "code",
   "execution_count": 54,
   "outputs": [],
   "source": [],
   "metadata": {
    "collapsed": false,
    "pycharm": {
     "name": "#%%\n"
    }
   }
  },
  {
   "cell_type": "code",
   "execution_count": 67,
   "outputs": [
    {
     "data": {
      "text/plain": "Index(['Pink', 'Orange', 'Blue', 'Silver', 'Yellow', 'Red', 'Purple', 'None'], dtype='object')"
     },
     "execution_count": 67,
     "metadata": {},
     "output_type": "execute_result"
    }
   ],
   "source": [
    " cct.keys()[1:-1]"
   ],
   "metadata": {
    "collapsed": false,
    "pycharm": {
     "name": "#%%\n"
    }
   }
  },
  {
   "cell_type": "code",
   "execution_count": null,
   "outputs": [],
   "source": [],
   "metadata": {
    "collapsed": false,
    "pycharm": {
     "name": "#%%\n"
    }
   }
  }
 ],
 "metadata": {
  "kernelspec": {
   "display_name": "Python 3",
   "language": "python",
   "name": "python3"
  },
  "language_info": {
   "codemirror_mode": {
    "name": "ipython",
    "version": 2
   },
   "file_extension": ".py",
   "mimetype": "text/x-python",
   "name": "python",
   "nbconvert_exporter": "python",
   "pygments_lexer": "ipython2",
   "version": "2.7.6"
  }
 },
 "nbformat": 4,
 "nbformat_minor": 0
}